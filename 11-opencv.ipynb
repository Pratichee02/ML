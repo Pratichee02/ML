{
 "cells": [
  {
   "cell_type": "code",
   "execution_count": 2,
   "id": "f19daea3",
   "metadata": {},
   "outputs": [],
   "source": [
    "import cv2 as cv\n",
    "import numpy as np"
   ]
  },
  {
   "cell_type": "code",
   "execution_count": 3,
   "id": "a0a86bbe",
   "metadata": {},
   "outputs": [],
   "source": [
    "image=cv.imread(\"doggy.jpg\")"
   ]
  },
  {
   "cell_type": "code",
   "execution_count": 4,
   "id": "78e87721",
   "metadata": {},
   "outputs": [
    {
     "data": {
      "text/plain": [
       "-1"
      ]
     },
     "execution_count": 4,
     "metadata": {},
     "output_type": "execute_result"
    }
   ],
   "source": [
    "cv.imshow(\"doggy\",image)\n",
    "cv.imshow(\"Image\",image)\n",
    "cv.waitKey(0)\n",
    "cv.destroyAllWindows()\n",
    "cv.waitKey()"
   ]
  },
  {
   "cell_type": "code",
   "execution_count": 5,
   "id": "fa279420",
   "metadata": {},
   "outputs": [
    {
     "data": {
      "text/plain": [
       "array([[[128, 207, 193],\n",
       "        [130, 209, 195],\n",
       "        [134, 211, 197],\n",
       "        ...,\n",
       "        [141, 142, 146],\n",
       "        [141, 142, 146],\n",
       "        [141, 142, 146]],\n",
       "\n",
       "       [[126, 205, 191],\n",
       "        [128, 207, 193],\n",
       "        [132, 209, 195],\n",
       "        ...,\n",
       "        [140, 141, 145],\n",
       "        [140, 141, 145],\n",
       "        [140, 141, 145]],\n",
       "\n",
       "       [[125, 202, 188],\n",
       "        [126, 203, 189],\n",
       "        [129, 204, 190],\n",
       "        ...,\n",
       "        [140, 141, 145],\n",
       "        [140, 141, 145],\n",
       "        [140, 141, 145]],\n",
       "\n",
       "       ...,\n",
       "\n",
       "       [[131, 199, 152],\n",
       "        [ 46, 108,  62],\n",
       "        [  0,  32,   0],\n",
       "        ...,\n",
       "        [ 70, 182,  98],\n",
       "        [137, 251, 167],\n",
       "        [115, 229, 145]],\n",
       "\n",
       "       [[ 36, 105,  54],\n",
       "        [ 40, 101,  51],\n",
       "        [  2,  45,   2],\n",
       "        ...,\n",
       "        [121, 235, 151],\n",
       "        [111, 228, 143],\n",
       "        [ 92, 209, 124]],\n",
       "\n",
       "       [[ 12,  96,  32],\n",
       "        [ 33, 107,  49],\n",
       "        [  1,  50,   4],\n",
       "        ...,\n",
       "        [106, 224, 141],\n",
       "        [102, 223, 139],\n",
       "        [ 88, 209, 125]]], dtype=uint8)"
      ]
     },
     "execution_count": 5,
     "metadata": {},
     "output_type": "execute_result"
    }
   ],
   "source": [
    "image"
   ]
  },
  {
   "cell_type": "code",
   "execution_count": 6,
   "id": "92dae840",
   "metadata": {},
   "outputs": [
    {
     "data": {
      "text/plain": [
       "(705, 564, 3)"
      ]
     },
     "execution_count": 6,
     "metadata": {},
     "output_type": "execute_result"
    }
   ],
   "source": [
    "image.shape\n"
   ]
  },
  {
   "cell_type": "code",
   "execution_count": 7,
   "id": "da1c2515",
   "metadata": {},
   "outputs": [],
   "source": [
    "corner = image[0:500,0:500]"
   ]
  },
  {
   "cell_type": "code",
   "execution_count": 8,
   "id": "4a2fa227",
   "metadata": {},
   "outputs": [
    {
     "data": {
      "text/plain": [
       "-1"
      ]
     },
     "execution_count": 8,
     "metadata": {},
     "output_type": "execute_result"
    }
   ],
   "source": [
    "cv.imshow(\"Corner\",corner)\n",
    "cv.waitKey(0)\n",
    "cv.destroyAllWindows()\n",
    "cv.waitKey()"
   ]
  },
  {
   "cell_type": "code",
   "execution_count": 9,
   "id": "5953901a",
   "metadata": {},
   "outputs": [
    {
     "data": {
      "text/plain": [
       "-1"
      ]
     },
     "execution_count": 9,
     "metadata": {},
     "output_type": "execute_result"
    }
   ],
   "source": [
    "canvas = np.zeros((3005,300,3),dtype='uint8')\n",
    "green = (0,255,0)\n",
    "cv.line(canvas,(0,0),(300,300),green,4)\n",
    "cv.imshow(\"Canvas\",canvas)\n",
    "cv.waitKey(0)"
   ]
  },
  {
   "cell_type": "code",
   "execution_count": 10,
   "id": "0544cb03",
   "metadata": {},
   "outputs": [
    {
     "name": "stdout",
     "output_type": "stream",
     "text": [
      "705\n",
      "564\n"
     ]
    },
    {
     "data": {
      "text/plain": [
       "-1"
      ]
     },
     "execution_count": 10,
     "metadata": {},
     "output_type": "execute_result"
    }
   ],
   "source": [
    "m = np.float32([[1,0,25],[0,1,50]])\n",
    "print(image.shape[0])\n",
    "print(image.shape[1])\n",
    "shifted=cv.warpAffine(image,m,(image.shape[1],image.shape[0]))\n",
    "cv.waitKey(0)"
   ]
  },
  {
   "cell_type": "code",
   "execution_count": 11,
   "id": "25f02576",
   "metadata": {},
   "outputs": [
    {
     "name": "stdout",
     "output_type": "stream",
     "text": [
      "(705, 564, 3)\n",
      "(375, 150, 3)\n"
     ]
    },
    {
     "data": {
      "text/plain": [
       "-1"
      ]
     },
     "execution_count": 11,
     "metadata": {},
     "output_type": "execute_result"
    }
   ],
   "source": [
    "cv.imshow(\"Original\",image)\n",
    "print(image.shape)\n",
    "r=300.0/image.shape[1]\n",
    "dim=(150,int(image.shape[0]*r))\n",
    "resized = cv.resize(image,dim,interpolation = cv.INTER_AREA)\n",
    "print(resized.shape)\n",
    "cv.imshow(\"Resized (Width)\",resized)\n",
    "cv.waitKey(0)"
   ]
  },
  {
   "cell_type": "code",
   "execution_count": 12,
   "id": "7f376854",
   "metadata": {},
   "outputs": [
    {
     "data": {
      "text/plain": [
       "-1"
      ]
     },
     "execution_count": 12,
     "metadata": {},
     "output_type": "execute_result"
    }
   ],
   "source": [
    "cv.imshow(\"Original\",image)\n",
    "flipped = cv.flip(image,0)\n",
    "cv.imshow(\"Flipped Horizontally\",flipped)\n",
    "cv.waitKey(0)"
   ]
  },
  {
   "cell_type": "code",
   "execution_count": 13,
   "id": "5dab70ec",
   "metadata": {},
   "outputs": [
    {
     "ename": "KeyboardInterrupt",
     "evalue": "",
     "output_type": "error",
     "traceback": [
      "\u001b[1;31m---------------------------------------------------------------------------\u001b[0m",
      "\u001b[1;31mKeyboardInterrupt\u001b[0m                         Traceback (most recent call last)",
      "\u001b[1;32m~\\AppData\\Local\\Temp\\ipykernel_17240\\570094982.py\u001b[0m in \u001b[0;36m<module>\u001b[1;34m\u001b[0m\n\u001b[0;32m      1\u001b[0m \u001b[0mvid\u001b[0m \u001b[1;33m=\u001b[0m \u001b[0mcv\u001b[0m\u001b[1;33m.\u001b[0m\u001b[0mVideoCapture\u001b[0m\u001b[1;33m(\u001b[0m\u001b[1;36m0\u001b[0m\u001b[1;33m)\u001b[0m\u001b[1;33m\u001b[0m\u001b[1;33m\u001b[0m\u001b[0m\n\u001b[0;32m      2\u001b[0m \u001b[1;32mwhile\u001b[0m\u001b[1;33m(\u001b[0m\u001b[1;32mTrue\u001b[0m\u001b[1;33m)\u001b[0m\u001b[1;33m:\u001b[0m\u001b[1;33m\u001b[0m\u001b[1;33m\u001b[0m\u001b[0m\n\u001b[1;32m----> 3\u001b[1;33m     \u001b[0mret\u001b[0m\u001b[1;33m,\u001b[0m \u001b[0mframe\u001b[0m \u001b[1;33m=\u001b[0m \u001b[0mvid\u001b[0m\u001b[1;33m.\u001b[0m\u001b[0mread\u001b[0m\u001b[1;33m(\u001b[0m\u001b[1;33m)\u001b[0m\u001b[1;33m\u001b[0m\u001b[1;33m\u001b[0m\u001b[0m\n\u001b[0m\u001b[0;32m      4\u001b[0m     \u001b[0mcv\u001b[0m\u001b[1;33m.\u001b[0m\u001b[0mimshow\u001b[0m\u001b[1;33m(\u001b[0m\u001b[1;34m'frame'\u001b[0m\u001b[1;33m,\u001b[0m \u001b[0mframe\u001b[0m\u001b[1;33m)\u001b[0m\u001b[1;33m\u001b[0m\u001b[1;33m\u001b[0m\u001b[0m\n\u001b[0;32m      5\u001b[0m     \u001b[1;32mif\u001b[0m \u001b[0mcv\u001b[0m\u001b[1;33m.\u001b[0m\u001b[0mwaitKey\u001b[0m\u001b[1;33m(\u001b[0m\u001b[1;36m1\u001b[0m\u001b[1;33m)\u001b[0m \u001b[1;33m&\u001b[0m \u001b[1;36m0xFF\u001b[0m \u001b[1;33m==\u001b[0m \u001b[0mord\u001b[0m\u001b[1;33m(\u001b[0m\u001b[1;34m'q'\u001b[0m\u001b[1;33m)\u001b[0m\u001b[1;33m:\u001b[0m\u001b[1;33m\u001b[0m\u001b[1;33m\u001b[0m\u001b[0m\n",
      "\u001b[1;31mKeyboardInterrupt\u001b[0m: "
     ]
    }
   ],
   "source": [
    "vid = cv.VideoCapture(0)\n",
    "while(True):\n",
    "    ret, frame = vid.read()\n",
    "    cv.imshow('frame', frame)\n",
    "    if cv.waitKey(1) & 0xFF == ord('q'):\n",
    "        break\n",
    "\n",
    "vid.release()\n",
    "cv.destroyAllWindows()"
   ]
  },
  {
   "cell_type": "code",
   "execution_count": null,
   "id": "bbfc5f65",
   "metadata": {},
   "outputs": [],
   "source": []
  }
 ],
 "metadata": {
  "kernelspec": {
   "display_name": "Python 3 (ipykernel)",
   "language": "python",
   "name": "python3"
  },
  "language_info": {
   "codemirror_mode": {
    "name": "ipython",
    "version": 3
   },
   "file_extension": ".py",
   "mimetype": "text/x-python",
   "name": "python",
   "nbconvert_exporter": "python",
   "pygments_lexer": "ipython3",
   "version": "3.9.13"
  }
 },
 "nbformat": 4,
 "nbformat_minor": 5
}
